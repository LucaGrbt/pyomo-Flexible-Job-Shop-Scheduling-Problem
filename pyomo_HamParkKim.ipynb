{
 "cells": [
  {
   "cell_type": "code",
   "execution_count": 236,
   "id": "fc88da17",
   "metadata": {},
   "outputs": [],
   "source": [
    "%matplotlib inline\n",
    "import matplotlib.pyplot as plt\n",
    "import matplotlib as mpl\n",
    "import pandas as pd\n",
    "import json\n",
    "import itertools\n",
    "\n",
    "import shutil\n",
    "import sys\n",
    "import os.path\n",
    "\n",
    "from pyomo.environ import *\n",
    "from pyomo.gdp import *"
   ]
  },
  {
   "cell_type": "code",
   "execution_count": 237,
   "id": "3f2fe391",
   "metadata": {},
   "outputs": [],
   "source": [
    "def txt2dict(filename):  # type in filename with strings! (e.g. 'Auftraege.txt')\n",
    "    jobs = {}\n",
    "    index_dict_job = 0\n",
    "    for line in open(filename, 'r'):\n",
    "        index_dict_job +=1\n",
    "        line = line.replace(\"\\'\", \"\\\"\")\n",
    "        jobs[\"Job_%d\" %(index_dict_job)] = json.loads(line)\n",
    "    return jobs"
   ]
  },
  {
   "cell_type": "code",
   "execution_count": 238,
   "id": "a40162ea",
   "metadata": {},
   "outputs": [],
   "source": [
    "# assert(shutil.which(\"cbc\") or os.path.isfile(\"cbc\"))"
   ]
  },
  {
   "cell_type": "code",
   "execution_count": 239,
   "id": "f2c23ad9",
   "metadata": {},
   "outputs": [],
   "source": [
    "shutil.which(\"gurobi.sh\")"
   ]
  },
  {
   "cell_type": "markdown",
   "id": "43f98035",
   "metadata": {},
   "source": [
    "# Extracting Data; FLEXIBLE = True/False "
   ]
  },
  {
   "cell_type": "code",
   "execution_count": 240,
   "id": "e9be72e4",
   "metadata": {},
   "outputs": [],
   "source": [
    "# for job in jobs:\n",
    "#     for operation in jobs[job]['task']:\n",
    "#         print(jobs[job]['task'][operation][1][0])"
   ]
  },
  {
   "cell_type": "code",
   "execution_count": 241,
   "id": "1de48ef7",
   "metadata": {},
   "outputs": [],
   "source": [
    "### extract operations data from jobs for solver - NOT FLEXIBLE\n",
    "def get_opd(jobs, flexible):\n",
    "    \n",
    "    flexible = flexible\n",
    "    I = set() # jobs i\n",
    "    ni =  {} # number of operations of job i\n",
    "    Ji = {} # 1: 1,2,3,4, 2:1,2,3,4,5, ... - set of operations of each job i\n",
    "    O = set() # (i,o),(...),(n,p) - (job-operation) pairs\n",
    "    K = set() # {1,2,3,4,5,...) - all machines k\n",
    "    Ko = {} # (i,o): (k1, k2, k3, ...) - machines for one operation\n",
    "    pre = {} # (i,o): (k,q) - preceeding operations\n",
    "    pok = {} # (i,o,k): p - processing time job i on machine k\n",
    "    Oq = {} # {(i,o,k):{(j,q),(l,r),(...)}, (i,o+1,m):{...}}\n",
    "    \n",
    "    \n",
    "    index_operation = 0 # initial value for 1st job loop\n",
    "    \n",
    "    ### jobs\n",
    "    for j, job in enumerate(jobs):\n",
    "        index_job = int(j+1)\n",
    "        ## I\n",
    "        I.add(index_job)\n",
    "        \n",
    "        \n",
    "        ## Ji\n",
    "        Ji[index_job] = set()\n",
    "        ## operations    \n",
    "        for operation in jobs[job]['task']:\n",
    "            index_operation = int(operation[9:])\n",
    "            ## ni\n",
    "            ni[index_job] = index_operation\n",
    "            ## Ji\n",
    "            Ji[index_job].add(index_operation)\n",
    "            op = (index_job, index_operation)\n",
    "            ## O\n",
    "            O.add(op)\n",
    "            ## pre\n",
    "            if index_operation == 1: # is any item in TASKS already?\n",
    "                pre[op] = None\n",
    "            elif index_operation > 1: # is it the first operation of a job?\n",
    "                pre[op] = (index_job, index_operation - 1)\n",
    "            \n",
    "            ## Ko\n",
    "            Ko[op] = set()\n",
    "            ## machines    \n",
    "            for machine_info in jobs[job]['task'][operation][1]:\n",
    "                index_machine = int(machine_info[0][1:])\n",
    "                ## K\n",
    "                K.add(index_machine)\n",
    "                ## Ko\n",
    "                Ko[op].add(index_machine)\n",
    "                ## p\n",
    "                pok[(index_job, index_operation, index_machine)] = machine_info[1]\n",
    "                \n",
    "    for k in K:\n",
    "        Oq[k] = [(j,q) for (j,q,m) in pok.keys() if m==k]\n",
    "    OqOriginal = Oq.copy()\n",
    "    Oq = {}\n",
    "    for op in O:\n",
    "        Oq[op] = set()\n",
    "        for k, oplist in OqOriginal.items():\n",
    "            for oper in oplist:\n",
    "                if oper != op and op in oplist:\n",
    "                    Oq[op].add(oper)\n",
    "    \n",
    "    return  I, ni, Ji, O, K, Ko, pre, pok, Oq, OqOriginal"
   ]
  },
  {
   "cell_type": "code",
   "execution_count": 242,
   "id": "34f55709",
   "metadata": {
    "scrolled": false
   },
   "outputs": [],
   "source": [
    "jobs = txt2dict('15x15x10_jobs.txt')\n",
    "I, ni, Ji, O, K, Ko, pre, pok, Oq, OqOriginal = get_opd(jobs, flexible = True)\n",
    "# print(\"I:\")\n",
    "# print(I)\n",
    "# print(\"ni:\")\n",
    "# print(ni)\n",
    "# print(\"Ji:\")\n",
    "# print(Ji)\n",
    "# print(\"O:\")\n",
    "# print(O)\n",
    "# print(\"K:\")\n",
    "# print(K)\n",
    "# print(\"Ko:\")\n",
    "# print(Ko)\n",
    "# print(\"pre:\")\n",
    "# print(pre)\n",
    "# print(\"pok:\")\n",
    "# print(pok)\n",
    "# print(\"Oq:\")\n",
    "# print(Oq)\n"
   ]
  },
  {
   "cell_type": "code",
   "execution_count": 243,
   "id": "aec9eaf5",
   "metadata": {},
   "outputs": [],
   "source": [
    "# print(list(pok.keys()))"
   ]
  },
  {
   "cell_type": "markdown",
   "id": "7f100fd0",
   "metadata": {},
   "source": [
    "# Initializing Model"
   ]
  },
  {
   "cell_type": "code",
   "execution_count": 244,
   "id": "74573319",
   "metadata": {},
   "outputs": [
    {
     "name": "stdout",
     "output_type": "stream",
     "text": [
      "WARNING: Initializing ordered Set I with a fundamentally unordered data source\n",
      "    (type: set).  This WILL potentially lead to nondeterministic behavior in\n",
      "    Pyomo\n",
      "WARNING: Initializing ordered Set K with a fundamentally unordered data source\n",
      "    (type: set).  This WILL potentially lead to nondeterministic behavior in\n",
      "    Pyomo\n"
     ]
    }
   ],
   "source": [
    "### initializing model    \n",
    "model = ConcreteModel()\n",
    "\n",
    "### initializing SETs: I, O, K\n",
    "## I - set of jobs\n",
    "model.I = Set(initialize = I, dimen=1)\n",
    "## O - set of job-operation pairs\n",
    "model.O = Set(initialize = O, dimen=2)\n",
    "## K - set of machines\n",
    "model.K = Set(initialize = K, dimen=1)\n",
    "## OK - cartesian product model.O * model.K - machine specific tasks with specific process time units\n",
    "model.OK = Set(initialize = pok.keys())\n",
    "## OQ - cartesian product of model.O * model.O - precedence combinations of operations from different jobs on one machine\n",
    "model.OQ = Set(initialize= model.O * model.O, dimen=4,\n",
    "    filter = lambda model, i, o, j, q: (j,q) != (i,o) and (j,q) in Oq[(i,o)])\n",
    "## TASKORDER - cartesian product of model.O * model.O - every operation  of a job has one operation in it`s job afterwards\n",
    "model.PO = Set(initialize = model.O * model.O, dimen=4, \n",
    "    filter = lambda model, i, o, j, q: (i,o) == pre[(j,q)])\n",
    "\n",
    "# model.OQ.pprint()"
   ]
  },
  {
   "cell_type": "markdown",
   "id": "e64be653",
   "metadata": {},
   "source": [
    "### Parameters"
   ]
  },
  {
   "cell_type": "code",
   "execution_count": 245,
   "id": "c958665d",
   "metadata": {
    "scrolled": false
   },
   "outputs": [],
   "source": [
    "### initializing PARAMs: ni, Ji, Ko, pre, p\n",
    "\n",
    "## ni - number of operations of each job i\n",
    "model.ni = Param(model.I, initialize = lambda model, i: ni[i])\n",
    "                                                            # def get_ni(model, i):\n",
    "                                                            #     return Ji[i]\n",
    "                                                            # model.ni = Param(model.I, initialize = get_ni)\n",
    "                                                            # print(list(model.ni[4]))\n",
    "## Ji - operations of each job 1\n",
    "model.Ji = Param(model.I, within=Any, default=set(), initialize = lambda model, i: Ji[i])\n",
    "## Ko - possible machines for each operation\n",
    "model.Ko = Param(model.O, within=Any, default=set(), initialize = lambda model, i, o: Ko[(i,o)])\n",
    "## pre - preceding operation of o\n",
    "model.pre = Param(model.O, within=Any, default=set(), initialize = lambda model, i, o: pre[(i,o)])\n",
    "## pok - processing times of operation o on machine k\n",
    "model.pok = Param(model.OK, within=Any, default=set(), initialize = lambda model, i, o, k: pok[(i, o, k)])\n",
    "## Oq - operations that can be processed by the same machine\n",
    "model.Oq = Param(model.O, within=Any, default=set(), initialize = lambda model, i, o: Oq[(i,o)])\n",
    "## upper bound for decision variables\n",
    "ub = sum(model.pok[(i, o, k)] for (i,o,k) in model.pok)\n",
    "model.ub = Param(initialize = ub)\n",
    "\n",
    "# model.Oq.pprint()"
   ]
  },
  {
   "cell_type": "code",
   "execution_count": null,
   "id": "7db4eda7",
   "metadata": {},
   "outputs": [],
   "source": []
  },
  {
   "cell_type": "markdown",
   "id": "d4cb2d79",
   "metadata": {},
   "source": [
    "### Decision Variables + Objective"
   ]
  },
  {
   "cell_type": "code",
   "execution_count": 246,
   "id": "1da307ae",
   "metadata": {},
   "outputs": [],
   "source": [
    "### create decision variables\n",
    "model.Xok = Var(model.OK, domain=Binary) # 1 if operation o is processed by machine k\n",
    "model.So = Var(model.O, within=NonNegativeReals, bounds=(0,ub)) # start time of operation o\n",
    "model.Co = Var(model.O, within=NonNegativeReals, bounds=(0,ub)) # completion time of operation o\n",
    "model.Cmax = Var(within=NonNegativeReals, bounds=(0, ub)) # MAKESPAN: objective value\n",
    "model.Woq = Var(model.OQ, domain=Binary) # 1 if \n",
    "model.Qok = Var(model.OK, domain=Binary)\n",
    "model.Vo = Var(model.O, within=NonNegativeReals, bounds=(0,ub))\n",
    "\n",
    "### objective function\n",
    "model.MAKESPAN = Objective(expr = model.Cmax, sense = minimize) # MAKESPAN"
   ]
  },
  {
   "cell_type": "markdown",
   "id": "84eda498",
   "metadata": {},
   "source": [
    "### Constraints + Disjunctions"
   ]
  },
  {
   "cell_type": "code",
   "execution_count": 247,
   "id": "a2b9bb8c",
   "metadata": {},
   "outputs": [],
   "source": [
    "### create constraints\n",
    "\n",
    "## const (02): each operation one machine\n",
    "def Const02(model, i, o):\n",
    "    return sum(model.Xok[(i,o,k)] for k in model.Ko[(i,o)]) <= 1\n",
    "model.Const02 = Constraint(model.O, rule=Const02)"
   ]
  },
  {
   "cell_type": "code",
   "execution_count": 248,
   "id": "b00df83e",
   "metadata": {},
   "outputs": [],
   "source": [
    "# model.Const02.pprint()"
   ]
  },
  {
   "cell_type": "code",
   "execution_count": 249,
   "id": "faf2fd72",
   "metadata": {},
   "outputs": [],
   "source": [
    "## const (03): completion time of each operation\n",
    "def Const03(model, i, o):\n",
    "    return model.Co[(i,o)] == model.So[(i,o)] + sum((model.pok[(i,o,k)] * model.Xok[(i,o,k)]) for k in model.Ko[(i,o)])\n",
    "model.Const03 = Constraint(model.O, rule=Const03)"
   ]
  },
  {
   "cell_type": "code",
   "execution_count": 250,
   "id": "36916a08",
   "metadata": {},
   "outputs": [],
   "source": [
    "# model.Const03.pprint()"
   ]
  },
  {
   "cell_type": "code",
   "execution_count": 251,
   "id": "2ac1e50d",
   "metadata": {},
   "outputs": [],
   "source": [
    "## const (04): preceding operations in job\n",
    "def Const04(model, i, o, j, q):\n",
    "    return model.So[(j,q)] >= model.Co[(i,o)]\n",
    "model.Const04 = Constraint(model.PO, rule=Const04)"
   ]
  },
  {
   "cell_type": "code",
   "execution_count": 252,
   "id": "2ba4d61d",
   "metadata": {},
   "outputs": [],
   "source": [
    "# model.Const04.pprint()"
   ]
  },
  {
   "cell_type": "code",
   "execution_count": 253,
   "id": "1f1640d0",
   "metadata": {},
   "outputs": [],
   "source": [
    "## const (05): MAKESPAN\n",
    "def Const05(model, i):\n",
    "        return model.Cmax >= model.Co[(i, model.ni[i])]\n",
    "model.Const05 = Constraint(model.I, rule=Const05)"
   ]
  },
  {
   "cell_type": "code",
   "execution_count": 254,
   "id": "eb5fa47c",
   "metadata": {},
   "outputs": [],
   "source": [
    "# model.Const05.pprint()"
   ]
  },
  {
   "cell_type": "code",
   "execution_count": 255,
   "id": "bdd8d091",
   "metadata": {
    "scrolled": true
   },
   "outputs": [],
   "source": [
    "## const (06): every machine has at most one last job\n",
    "def Const06(model, k):\n",
    "    return sum(model.Qok[(i,o,k)] for (i,o) in model.O if (i,o,k) in model.Qok.keys()) <= 1\n",
    "model.Const06 = Constraint(model.K, rule=Const06)"
   ]
  },
  {
   "cell_type": "code",
   "execution_count": 256,
   "id": "8c787e04",
   "metadata": {
    "scrolled": true
   },
   "outputs": [],
   "source": [
    "# model.Const06.pprint()"
   ]
  },
  {
   "cell_type": "code",
   "execution_count": 257,
   "id": "66fb4d79",
   "metadata": {
    "scrolled": false
   },
   "outputs": [],
   "source": [
    "## const (07): every operation has at most on preceding operation\n",
    "def Const07(model, j, q):\n",
    "    return sum(model.Woq[(i,o,j,q)] for (i,o) in model.Oq[(j,q)] if (i,o,j,q) in model.OQ) <= 1\n",
    "model.Const07 = Constraint(model.O, rule=Const07)"
   ]
  },
  {
   "cell_type": "code",
   "execution_count": 258,
   "id": "3ee00ea1",
   "metadata": {},
   "outputs": [],
   "source": [
    "# model.Const07.pprint()"
   ]
  },
  {
   "cell_type": "code",
   "execution_count": 259,
   "id": "1a1049f9",
   "metadata": {},
   "outputs": [],
   "source": [
    "## const (08): each operation has an immediate next operation or it is the last operation on a machine\n",
    "def Const08(model, i, o):\n",
    "    return (sum(model.Woq[(i,o,j,q)] for (j,q) in model.Oq[(i,o)]) \n",
    "            + sum(model.Qok[(i,o,k)] for k in model.Ko[(i,o)])) == 1\n",
    "model.Const08 = Constraint(model.O, rule=Const08)"
   ]
  },
  {
   "cell_type": "code",
   "execution_count": 260,
   "id": "063c7758",
   "metadata": {},
   "outputs": [],
   "source": [
    "# model.Const08.pprint()"
   ]
  },
  {
   "cell_type": "code",
   "execution_count": 261,
   "id": "7af51fbe",
   "metadata": {},
   "outputs": [],
   "source": [
    "## const (09)-(12): if o immediately precedes q, run o & q on same machine\n",
    "def Const09(model, i, o):\n",
    "        for (j,q) in model.Oq[(i,o)]:\n",
    "            for k in model.K:\n",
    "                if k in model.Ko[(i,o)] and k in model.Ko[(j,q)]:\n",
    "                    return model.Woq[(i,o,j,q)] - 1 <= model.Xok[(i,o,k)] - model.Xok[(j,q,k)]\n",
    "model.Const09 = Constraint(model.O, rule=Const09)"
   ]
  },
  {
   "cell_type": "code",
   "execution_count": 262,
   "id": "2dfe3c26",
   "metadata": {},
   "outputs": [],
   "source": [
    "# model.Const09.pprint()"
   ]
  },
  {
   "cell_type": "code",
   "execution_count": 263,
   "id": "1c8987b5",
   "metadata": {},
   "outputs": [],
   "source": [
    "## const (09)-(12): if o immediately precedes q, run o & q on same machine\n",
    "def Const10(model, i, o):\n",
    "    for (j,q) in model.Oq[(i,o)]:\n",
    "        for k in model.K:\n",
    "            if k in model.Ko[(i,o)] and k in model.Ko[(j,q)]:\n",
    "                return 1 - model.Woq[(i,o,j,q)] >= model.Xok[(i,o,k)] - model.Xok[(j,q,k)]\n",
    "model.Const10 = Constraint(model.O, rule=Const10)"
   ]
  },
  {
   "cell_type": "code",
   "execution_count": 264,
   "id": "89599cad",
   "metadata": {},
   "outputs": [],
   "source": [
    "# model.Const10.pprint()"
   ]
  },
  {
   "cell_type": "code",
   "execution_count": 265,
   "id": "ca44eb52",
   "metadata": {},
   "outputs": [],
   "source": [
    "## const (09)-(12): if o immediately precedes q, run o & q on same machine\n",
    "def Const11(model, i, o):\n",
    "    for (j,q) in model.Oq[(i,o)]:\n",
    "        return (sum(model.Xok[(i,o,k)] for k in K if k in model.Ko[(i,o)] and k in model.Ko[j,q]) \n",
    "                >= model.Woq[(i,o,j,q)])\n",
    "model.Const11 = Constraint(model.O, rule=Const11)\n"
   ]
  },
  {
   "cell_type": "code",
   "execution_count": 266,
   "id": "f5136e82",
   "metadata": {},
   "outputs": [],
   "source": [
    "# model.Const11.pprint()"
   ]
  },
  {
   "cell_type": "code",
   "execution_count": 267,
   "id": "f6ac5c1d",
   "metadata": {},
   "outputs": [],
   "source": [
    "## const (09)-(12): if o immediately precedes q, run o & q on same machine\n",
    "def Const12(model, i, o):\n",
    "    for (j,q) in model.Oq[(i,o)]:\n",
    "            return (sum(model.Xok[(j,q,k)] for k in model.K if k in model.Ko[(i,o)] and k in model.Ko[j,q]) \n",
    "                    >= model.Woq[(i,o,j,q)])\n",
    "model.Const12 = Constraint(model.O, rule=Const12)"
   ]
  },
  {
   "cell_type": "code",
   "execution_count": 268,
   "id": "63dbaafb",
   "metadata": {},
   "outputs": [],
   "source": [
    "# model.Const12.pprint()"
   ]
  },
  {
   "cell_type": "code",
   "execution_count": 269,
   "id": "8855b379",
   "metadata": {},
   "outputs": [],
   "source": [
    "## const (13): operation o can only be the last operation on machine k if machine k produces machine k\n",
    "def Const13(model, i, o):\n",
    "    for k in model.Ko[(i,o)]:\n",
    "        return model.Qok[(i,o,k)] <= model.Xok[(i,o,k)]\n",
    "model.Const13 = Constraint(model.O, rule=Const13)"
   ]
  },
  {
   "cell_type": "code",
   "execution_count": 270,
   "id": "255308da",
   "metadata": {},
   "outputs": [],
   "source": [
    "# model.Const13.pprint()"
   ]
  },
  {
   "cell_type": "code",
   "execution_count": 271,
   "id": "27371ace",
   "metadata": {},
   "outputs": [],
   "source": [
    "## const (14): q starts after completion of o immediately on same machine k\n",
    "def Const14(model, i, o):\n",
    "    for (j,q) in model.Oq[(i,o)]:\n",
    "        return (model.So[(j,q)] >= model.Co[(i,o)] \n",
    "                + sum(max(model.pok[i,o,k] for k in model.Ko[(i,o)]) for (i,o) in model.O)\n",
    "                *(model.Woq[(i,o,j,q)] - 1))\n",
    "model.Const14 = Constraint(model.O, rule=Const14)"
   ]
  },
  {
   "cell_type": "code",
   "execution_count": 272,
   "id": "b0648376",
   "metadata": {},
   "outputs": [],
   "source": [
    "# model.Const14.pprint()"
   ]
  },
  {
   "cell_type": "code",
   "execution_count": 273,
   "id": "ca771649",
   "metadata": {},
   "outputs": [],
   "source": [
    "## const (15): idle time after last job is zero\n",
    "def Const15(model, i, o):\n",
    "    return (model.Vo[(i,o)] \n",
    "            <= sum(max(model.pok[i,o,k] for k in model.Ko[(i,o)]) for (i,o) in model.O)\n",
    "            * (1 - sum(model.Qok[(i,o,k)] for k in model.Ko[(i,o)])))\n",
    "model.Const15 = Constraint(model.O, rule=Const15)"
   ]
  },
  {
   "cell_type": "code",
   "execution_count": 274,
   "id": "23623049",
   "metadata": {},
   "outputs": [],
   "source": [
    "# model.Const15.pprint()"
   ]
  },
  {
   "cell_type": "code",
   "execution_count": 275,
   "id": "544e1d57",
   "metadata": {},
   "outputs": [],
   "source": [
    "## const (16)-(17): compute idle time after each operation\n",
    "def Const16(model, i, o):\n",
    "    for (j,q) in model.Oq[(i,o)]:\n",
    "        return (model.Vo[(i,o)] <= model.So[(j,q)] - model.Co[(i,o)]\n",
    "                + sum(max(model.pok[i,o,k] for k in model.Ko[(i,o)]) for (i,o) in model.O)\n",
    "                * (1 - model.Woq[(i,o,j,q)]))\n",
    "model.Const16 = Constraint(model.O, rule=Const16)"
   ]
  },
  {
   "cell_type": "code",
   "execution_count": 276,
   "id": "3cda46c5",
   "metadata": {},
   "outputs": [],
   "source": [
    "# model.Const16.pprint()"
   ]
  },
  {
   "cell_type": "code",
   "execution_count": 277,
   "id": "a12acf76",
   "metadata": {},
   "outputs": [],
   "source": [
    "## const (16)-(17): compute idle time after each operation\n",
    "def Const17(model, i, o):\n",
    "    for (j,q) in model.Oq[(i,o)]:\n",
    "        return (model.Vo[(i,o)] <= model.So[(j,q)] - model.Co[(i,o)]\n",
    "                - sum(max(model.pok[i,o,k] for k in model.Ko[(i,o)]) for (i,o) in model.O)\n",
    "                * (1 - model.Woq[(i,o,j,q)]))\n",
    "model.Const17 = Constraint(model.O, rule=Const17)"
   ]
  },
  {
   "cell_type": "code",
   "execution_count": 278,
   "id": "542581fb",
   "metadata": {},
   "outputs": [],
   "source": [
    "# model.Const17.pprint()"
   ]
  },
  {
   "cell_type": "code",
   "execution_count": 279,
   "id": "bd47168f",
   "metadata": {},
   "outputs": [],
   "source": [
    "# perform Hull Reformulation (HR)\n",
    "TransformationFactory('gdp.hull').apply_to(model)"
   ]
  },
  {
   "cell_type": "code",
   "execution_count": 281,
   "id": "c297657d",
   "metadata": {},
   "outputs": [
    {
     "name": "stdout",
     "output_type": "stream",
     "text": [
      "WARNING: Loading a SolverResults object with a warning status into\n",
      "    model.name=\"unknown\";\n",
      "      - termination condition: infeasible\n",
      "      - message from solver: <undefined>\n",
      "Welcome to the CBC MILP Solver \n",
      "Version: 2.10.8 \n",
      "Build Date: Dec  2 2022 \n",
      "\n",
      "command line - /usr/bin/cbc -printingOptions all -import /tmp/tmpe8jcufsc.pyomo.lp -stat=1 -solve -solu /tmp/tmpe8jcufsc.pyomo.soln (default strategy 1)\n",
      "Option for printingOptions changed from normal to all\n",
      "Presolve 1510 (-349) rows, 5200 (-272) columns and 12938 (-1162) elements\n",
      "Statistics for presolved model\n",
      "Original problem has 5074 integers (5074 of which binary)\n",
      "Presolved problem has 5058 integers (5058 of which binary)\n",
      "==== 5199 zero objective 2 different\n",
      "5199 variables have objective of 0\n",
      "1 variables have objective of 1\n",
      "==== absolute objective values 2 different\n",
      "5199 variables have objective of 0\n",
      "1 variables have objective of 1\n",
      "==== for integers 5058 zero objective 1 different\n",
      "5058 variables have objective of 0\n",
      "==== for integers absolute objective values 1 different\n",
      "5058 variables have objective of 0\n",
      "===== end objective counts\n",
      "\n",
      "\n",
      "Problem has 1510 rows, 5200 columns (1 with objective) and 12938 elements\n",
      "Column breakdown:\n",
      "0 of type 0.0->inf, 142 of type 0.0->up, 0 of type lo->inf, \n",
      "0 of type lo->up, 0 of type free, 0 of type fixed, \n",
      "0 of type -inf->0.0, 0 of type -inf->up, 5058 of type 0.0->1.0 \n",
      "Row breakdown:\n",
      "9 of type E 0.0, 132 of type E 1.0, 0 of type E -1.0, \n",
      "0 of type E other, 0 of type G 0.0, 0 of type G 1.0, \n",
      "0 of type G other, 528 of type L 0.0, 477 of type L 1.0, \n",
      "351 of type L other, 0 of type Range 0.0->1.0, 13 of type Range other, \n",
      "0 of type Free \n",
      "Problem is infeasible - 0.19 seconds\n",
      "Total time (CPU seconds):       0.24   (Wallclock seconds):       0.25\n",
      "\n",
      "WARNING: Loading a SolverResults object with a warning status into\n",
      "    model.name=\"unknown\";\n",
      "      - termination condition: infeasible\n",
      "      - message from solver: <undefined>\n"
     ]
    }
   ],
   "source": [
    "# choose solver\n",
    "sys.path.append(\"/python/optsolv/gurobi1000/linux64/bin\")\n",
    "SOLVER_NAME = 'cbc'\n",
    "solver = SolverFactory(SOLVER_NAME)\n",
    "\n",
    "# set time limit for solving, for following solvers the correct formulations to integrate time limit are given below:\n",
    "TIME_LIMIT = 10\n",
    "if 'cplex' in SOLVER_NAME:\n",
    "    solver.options['timelimit'] = TIME_LIMIT\n",
    "elif 'glpk' in SOLVER_NAME:         \n",
    "    solver.options['tmlim'] = TIME_LIMIT\n",
    "elif 'gurobi' in SOLVER_NAME:           \n",
    "    solver.options['TimeLimit'] = TIME_LIMIT\n",
    "elif 'xpress' in SOLVER_NAME:\n",
    "    solver.options['maxtime'] = TIME_LIMIT \n",
    "\n",
    "solver.solve(model)\n",
    "# results = [{'Job': i,\n",
    "#             'Operation': o,\n",
    "#             'Machine': k,\n",
    "#             'Start': model.So[i,o](), \n",
    "#             'Duration': model.pok[i,o,k], \n",
    "#             'Finish': model.So[(i,o)]() + model.pok[i,o,k]}\n",
    "#            for i,o,k in model.pok]\n",
    "results = solver.solve(model, tee=True)"
   ]
  },
  {
   "cell_type": "code",
   "execution_count": 86,
   "id": "477a1afb",
   "metadata": {},
   "outputs": [
    {
     "name": "stdout",
     "output_type": "stream",
     "text": [
      "So : Size=132, Index=O\n",
      "    Key      : Lower : Value : Upper : Fixed : Stale : Domain\n",
      "      (1, 1) :     0 :  None :   658 : False :  True : NonNegativeReals\n",
      "      (1, 2) :     0 :  None :   658 : False :  True : NonNegativeReals\n",
      "      (1, 3) :     0 :  None :   658 : False :  True : NonNegativeReals\n",
      "      (1, 4) :     0 :  None :   658 : False :  True : NonNegativeReals\n",
      "      (1, 5) :     0 :  None :   658 : False :  True : NonNegativeReals\n",
      "      (1, 6) :     0 :  None :   658 : False :  True : NonNegativeReals\n",
      "      (1, 7) :     0 :  None :   658 : False :  True : NonNegativeReals\n",
      "      (1, 8) :     0 :  None :   658 : False :  True : NonNegativeReals\n",
      "      (1, 9) :     0 :  None :   658 : False :  True : NonNegativeReals\n",
      "     (1, 10) :     0 :  None :   658 : False :  True : NonNegativeReals\n",
      "     (1, 11) :     0 :  None :   658 : False :  True : NonNegativeReals\n",
      "      (2, 1) :     0 :  None :   658 : False :  True : NonNegativeReals\n",
      "      (2, 2) :     0 :  None :   658 : False :  True : NonNegativeReals\n",
      "      (2, 3) :     0 :  None :   658 : False :  True : NonNegativeReals\n",
      "      (2, 4) :     0 :  None :   658 : False :  True : NonNegativeReals\n",
      "      (2, 5) :     0 :  None :   658 : False :  True : NonNegativeReals\n",
      "      (2, 6) :     0 :  None :   658 : False :  True : NonNegativeReals\n",
      "      (3, 1) :     0 :  None :   658 : False :  True : NonNegativeReals\n",
      "      (3, 2) :     0 :  None :   658 : False :  True : NonNegativeReals\n",
      "      (3, 3) :     0 :  None :   658 : False :  True : NonNegativeReals\n",
      "      (3, 4) :     0 :  None :   658 : False :  True : NonNegativeReals\n",
      "      (4, 1) :     0 :  None :   658 : False :  True : NonNegativeReals\n",
      "      (4, 2) :     0 :  None :   658 : False :  True : NonNegativeReals\n",
      "      (4, 3) :     0 :  None :   658 : False :  True : NonNegativeReals\n",
      "      (4, 4) :     0 :  None :   658 : False :  True : NonNegativeReals\n",
      "      (4, 5) :     0 :  None :   658 : False :  True : NonNegativeReals\n",
      "      (4, 6) :     0 :  None :   658 : False :  True : NonNegativeReals\n",
      "      (4, 7) :     0 :  None :   658 : False :  True : NonNegativeReals\n",
      "      (4, 8) :     0 :  None :   658 : False :  True : NonNegativeReals\n",
      "      (5, 1) :     0 :  None :   658 : False :  True : NonNegativeReals\n",
      "      (5, 2) :     0 :  None :   658 : False :  True : NonNegativeReals\n",
      "      (5, 3) :     0 :  None :   658 : False :  True : NonNegativeReals\n",
      "      (5, 4) :     0 :  None :   658 : False :  True : NonNegativeReals\n",
      "      (5, 5) :     0 :  None :   658 : False :  True : NonNegativeReals\n",
      "      (5, 6) :     0 :  None :   658 : False :  True : NonNegativeReals\n",
      "      (5, 7) :     0 :  None :   658 : False :  True : NonNegativeReals\n",
      "      (6, 1) :     0 :  None :   658 : False :  True : NonNegativeReals\n",
      "      (6, 2) :     0 :  None :   658 : False :  True : NonNegativeReals\n",
      "      (6, 3) :     0 :  None :   658 : False :  True : NonNegativeReals\n",
      "      (6, 4) :     0 :  None :   658 : False :  True : NonNegativeReals\n",
      "      (6, 5) :     0 :  None :   658 : False :  True : NonNegativeReals\n",
      "      (6, 6) :     0 :  None :   658 : False :  True : NonNegativeReals\n",
      "      (6, 7) :     0 :  None :   658 : False :  True : NonNegativeReals\n",
      "      (6, 8) :     0 :  None :   658 : False :  True : NonNegativeReals\n",
      "      (6, 9) :     0 :  None :   658 : False :  True : NonNegativeReals\n",
      "     (6, 10) :     0 :  None :   658 : False :  True : NonNegativeReals\n",
      "     (6, 11) :     0 :  None :   658 : False :  True : NonNegativeReals\n",
      "     (6, 12) :     0 :  None :   658 : False :  True : NonNegativeReals\n",
      "     (6, 13) :     0 :  None :   658 : False :  True : NonNegativeReals\n",
      "     (6, 14) :     0 :  None :   658 : False :  True : NonNegativeReals\n",
      "      (7, 1) :     0 :  None :   658 : False :  True : NonNegativeReals\n",
      "      (7, 2) :     0 :  None :   658 : False :  True : NonNegativeReals\n",
      "      (7, 3) :     0 :  None :   658 : False :  True : NonNegativeReals\n",
      "      (7, 4) :     0 :  None :   658 : False :  True : NonNegativeReals\n",
      "      (7, 5) :     0 :  None :   658 : False :  True : NonNegativeReals\n",
      "      (7, 6) :     0 :  None :   658 : False :  True : NonNegativeReals\n",
      "      (7, 7) :     0 :  None :   658 : False :  True : NonNegativeReals\n",
      "      (7, 8) :     0 :  None :   658 : False :  True : NonNegativeReals\n",
      "      (7, 9) :     0 :  None :   658 : False :  True : NonNegativeReals\n",
      "     (7, 10) :     0 :  None :   658 : False :  True : NonNegativeReals\n",
      "     (7, 11) :     0 :  None :   658 : False :  True : NonNegativeReals\n",
      "      (8, 1) :     0 :  None :   658 : False :  True : NonNegativeReals\n",
      "      (8, 2) :     0 :  None :   658 : False :  True : NonNegativeReals\n",
      "      (8, 3) :     0 :  None :   658 : False :  True : NonNegativeReals\n",
      "      (8, 4) :     0 :  None :   658 : False :  True : NonNegativeReals\n",
      "      (9, 1) :     0 :  None :   658 : False :  True : NonNegativeReals\n",
      "      (9, 2) :     0 :  None :   658 : False :  True : NonNegativeReals\n",
      "      (9, 3) :     0 :  None :   658 : False :  True : NonNegativeReals\n",
      "      (9, 4) :     0 :  None :   658 : False :  True : NonNegativeReals\n",
      "      (9, 5) :     0 :  None :   658 : False :  True : NonNegativeReals\n",
      "      (9, 6) :     0 :  None :   658 : False :  True : NonNegativeReals\n",
      "      (9, 7) :     0 :  None :   658 : False :  True : NonNegativeReals\n",
      "      (9, 8) :     0 :  None :   658 : False :  True : NonNegativeReals\n",
      "      (9, 9) :     0 :  None :   658 : False :  True : NonNegativeReals\n",
      "     (10, 1) :     0 :  None :   658 : False :  True : NonNegativeReals\n",
      "     (10, 2) :     0 :  None :   658 : False :  True : NonNegativeReals\n",
      "     (10, 3) :     0 :  None :   658 : False :  True : NonNegativeReals\n",
      "     (10, 4) :     0 :  None :   658 : False :  True : NonNegativeReals\n",
      "     (10, 5) :     0 :  None :   658 : False :  True : NonNegativeReals\n",
      "     (10, 6) :     0 :  None :   658 : False :  True : NonNegativeReals\n",
      "     (10, 7) :     0 :  None :   658 : False :  True : NonNegativeReals\n",
      "     (10, 8) :     0 :  None :   658 : False :  True : NonNegativeReals\n",
      "     (10, 9) :     0 :  None :   658 : False :  True : NonNegativeReals\n",
      "    (10, 10) :     0 :  None :   658 : False :  True : NonNegativeReals\n",
      "    (10, 11) :     0 :  None :   658 : False :  True : NonNegativeReals\n",
      "     (11, 1) :     0 :  None :   658 : False :  True : NonNegativeReals\n",
      "     (11, 2) :     0 :  None :   658 : False :  True : NonNegativeReals\n",
      "     (11, 3) :     0 :  None :   658 : False :  True : NonNegativeReals\n",
      "     (11, 4) :     0 :  None :   658 : False :  True : NonNegativeReals\n",
      "     (11, 5) :     0 :  None :   658 : False :  True : NonNegativeReals\n",
      "     (11, 6) :     0 :  None :   658 : False :  True : NonNegativeReals\n",
      "     (11, 7) :     0 :  None :   658 : False :  True : NonNegativeReals\n",
      "     (11, 8) :     0 :  None :   658 : False :  True : NonNegativeReals\n",
      "     (11, 9) :     0 :  None :   658 : False :  True : NonNegativeReals\n",
      "    (11, 10) :     0 :  None :   658 : False :  True : NonNegativeReals\n",
      "    (11, 11) :     0 :  None :   658 : False :  True : NonNegativeReals\n",
      "    (11, 12) :     0 :  None :   658 : False :  True : NonNegativeReals\n",
      "    (11, 13) :     0 :  None :   658 : False :  True : NonNegativeReals\n",
      "    (11, 14) :     0 :  None :   658 : False :  True : NonNegativeReals\n",
      "    (11, 15) :     0 :  None :   658 : False :  True : NonNegativeReals\n",
      "     (12, 1) :     0 :  None :   658 : False :  True : NonNegativeReals\n",
      "     (12, 2) :     0 :  None :   658 : False :  True : NonNegativeReals\n",
      "     (12, 3) :     0 :  None :   658 : False :  True : NonNegativeReals\n",
      "     (13, 1) :     0 :  None :   658 : False :  True : NonNegativeReals\n",
      "     (13, 2) :     0 :  None :   658 : False :  True : NonNegativeReals\n",
      "     (13, 3) :     0 :  None :   658 : False :  True : NonNegativeReals\n",
      "     (13, 4) :     0 :  None :   658 : False :  True : NonNegativeReals\n",
      "     (13, 5) :     0 :  None :   658 : False :  True : NonNegativeReals\n",
      "     (13, 6) :     0 :  None :   658 : False :  True : NonNegativeReals\n",
      "     (14, 1) :     0 :  None :   658 : False :  True : NonNegativeReals\n",
      "     (14, 2) :     0 :  None :   658 : False :  True : NonNegativeReals\n",
      "     (14, 3) :     0 :  None :   658 : False :  True : NonNegativeReals\n",
      "     (14, 4) :     0 :  None :   658 : False :  True : NonNegativeReals\n",
      "     (14, 5) :     0 :  None :   658 : False :  True : NonNegativeReals\n",
      "     (14, 6) :     0 :  None :   658 : False :  True : NonNegativeReals\n",
      "     (14, 7) :     0 :  None :   658 : False :  True : NonNegativeReals\n",
      "     (14, 8) :     0 :  None :   658 : False :  True : NonNegativeReals\n",
      "     (15, 1) :     0 :  None :   658 : False :  True : NonNegativeReals\n",
      "     (15, 2) :     0 :  None :   658 : False :  True : NonNegativeReals\n",
      "     (15, 3) :     0 :  None :   658 : False :  True : NonNegativeReals\n",
      "     (15, 4) :     0 :  None :   658 : False :  True : NonNegativeReals\n",
      "     (15, 5) :     0 :  None :   658 : False :  True : NonNegativeReals\n",
      "     (15, 6) :     0 :  None :   658 : False :  True : NonNegativeReals\n",
      "     (15, 7) :     0 :  None :   658 : False :  True : NonNegativeReals\n",
      "     (15, 8) :     0 :  None :   658 : False :  True : NonNegativeReals\n",
      "     (15, 9) :     0 :  None :   658 : False :  True : NonNegativeReals\n",
      "    (15, 10) :     0 :  None :   658 : False :  True : NonNegativeReals\n",
      "    (15, 11) :     0 :  None :   658 : False :  True : NonNegativeReals\n",
      "    (15, 12) :     0 :  None :   658 : False :  True : NonNegativeReals\n",
      "    (15, 13) :     0 :  None :   658 : False :  True : NonNegativeReals\n",
      "    (15, 14) :     0 :  None :   658 : False :  True : NonNegativeReals\n",
      "    (15, 15) :     0 :  None :   658 : False :  True : NonNegativeReals\n"
     ]
    }
   ],
   "source": [
    "model.So.display()"
   ]
  },
  {
   "cell_type": "code",
   "execution_count": 29,
   "id": "74744c3a",
   "metadata": {},
   "outputs": [
    {
     "data": {
      "text/plain": [
       "['Problem', 'Solver', 'Solution']"
      ]
     },
     "execution_count": 29,
     "metadata": {},
     "output_type": "execute_result"
    }
   ],
   "source": [
    "schedule = pd.DataFrame(results)\n",
    "list(schedule)"
   ]
  },
  {
   "cell_type": "code",
   "execution_count": 30,
   "id": "ac9cb779",
   "metadata": {},
   "outputs": [
    {
     "name": "stdout",
     "output_type": "stream",
     "text": [
      "\n",
      "Schedule by Job\n"
     ]
    },
    {
     "ename": "KeyError",
     "evalue": "'Job'",
     "output_type": "error",
     "traceback": [
      "\u001b[0;31m---------------------------------------------------------------------------\u001b[0m",
      "\u001b[0;31mKeyError\u001b[0m                                  Traceback (most recent call last)",
      "Cell \u001b[0;32mIn[30], line 3\u001b[0m\n\u001b[1;32m      1\u001b[0m schedule \u001b[38;5;241m=\u001b[39m pd\u001b[38;5;241m.\u001b[39mDataFrame(results)\n\u001b[1;32m      2\u001b[0m \u001b[38;5;28mprint\u001b[39m(\u001b[38;5;124m'\u001b[39m\u001b[38;5;130;01m\\n\u001b[39;00m\u001b[38;5;124mSchedule by Job\u001b[39m\u001b[38;5;124m'\u001b[39m)\n\u001b[0;32m----> 3\u001b[0m \u001b[38;5;28mprint\u001b[39m(\u001b[43mschedule\u001b[49m\u001b[38;5;241;43m.\u001b[39;49m\u001b[43msort_values\u001b[49m\u001b[43m(\u001b[49m\u001b[43mby\u001b[49m\u001b[38;5;241;43m=\u001b[39;49m\u001b[43m[\u001b[49m\u001b[38;5;124;43m'\u001b[39;49m\u001b[38;5;124;43mJob\u001b[39;49m\u001b[38;5;124;43m'\u001b[39;49m\u001b[43m,\u001b[49m\u001b[38;5;124;43m'\u001b[39;49m\u001b[38;5;124;43mStart\u001b[39;49m\u001b[38;5;124;43m'\u001b[39;49m\u001b[43m]\u001b[49m\u001b[43m)\u001b[49m\u001b[38;5;241m.\u001b[39mset_index([\u001b[38;5;124m'\u001b[39m\u001b[38;5;124mJob\u001b[39m\u001b[38;5;124m'\u001b[39m, \u001b[38;5;124m'\u001b[39m\u001b[38;5;124mMachine\u001b[39m\u001b[38;5;124m'\u001b[39m]))\n\u001b[1;32m      5\u001b[0m \u001b[38;5;28mprint\u001b[39m(\u001b[38;5;124m'\u001b[39m\u001b[38;5;130;01m\\n\u001b[39;00m\u001b[38;5;124mSchedule by Machine\u001b[39m\u001b[38;5;124m'\u001b[39m)\n\u001b[1;32m      6\u001b[0m \u001b[38;5;28mprint\u001b[39m(schedule\u001b[38;5;241m.\u001b[39msort_values(by\u001b[38;5;241m=\u001b[39m[\u001b[38;5;124m'\u001b[39m\u001b[38;5;124mMachine\u001b[39m\u001b[38;5;124m'\u001b[39m,\u001b[38;5;124m'\u001b[39m\u001b[38;5;124mStart\u001b[39m\u001b[38;5;124m'\u001b[39m])\u001b[38;5;241m.\u001b[39mset_index([\u001b[38;5;124m'\u001b[39m\u001b[38;5;124mMachine\u001b[39m\u001b[38;5;124m'\u001b[39m, \u001b[38;5;124m'\u001b[39m\u001b[38;5;124mJob\u001b[39m\u001b[38;5;124m'\u001b[39m]))\n",
      "File \u001b[0;32m~/python/venvs/pyomo/lib/python3.10/site-packages/pandas/util/_decorators.py:331\u001b[0m, in \u001b[0;36mdeprecate_nonkeyword_arguments.<locals>.decorate.<locals>.wrapper\u001b[0;34m(*args, **kwargs)\u001b[0m\n\u001b[1;32m    325\u001b[0m \u001b[38;5;28;01mif\u001b[39;00m \u001b[38;5;28mlen\u001b[39m(args) \u001b[38;5;241m>\u001b[39m num_allow_args:\n\u001b[1;32m    326\u001b[0m     warnings\u001b[38;5;241m.\u001b[39mwarn(\n\u001b[1;32m    327\u001b[0m         msg\u001b[38;5;241m.\u001b[39mformat(arguments\u001b[38;5;241m=\u001b[39m_format_argument_list(allow_args)),\n\u001b[1;32m    328\u001b[0m         \u001b[38;5;167;01mFutureWarning\u001b[39;00m,\n\u001b[1;32m    329\u001b[0m         stacklevel\u001b[38;5;241m=\u001b[39mfind_stack_level(),\n\u001b[1;32m    330\u001b[0m     )\n\u001b[0;32m--> 331\u001b[0m \u001b[38;5;28;01mreturn\u001b[39;00m \u001b[43mfunc\u001b[49m\u001b[43m(\u001b[49m\u001b[38;5;241;43m*\u001b[39;49m\u001b[43margs\u001b[49m\u001b[43m,\u001b[49m\u001b[43m \u001b[49m\u001b[38;5;241;43m*\u001b[39;49m\u001b[38;5;241;43m*\u001b[39;49m\u001b[43mkwargs\u001b[49m\u001b[43m)\u001b[49m\n",
      "File \u001b[0;32m~/python/venvs/pyomo/lib/python3.10/site-packages/pandas/core/frame.py:6891\u001b[0m, in \u001b[0;36mDataFrame.sort_values\u001b[0;34m(self, by, axis, ascending, inplace, kind, na_position, ignore_index, key)\u001b[0m\n\u001b[1;32m   6885\u001b[0m     \u001b[38;5;28;01mraise\u001b[39;00m \u001b[38;5;167;01mValueError\u001b[39;00m(\n\u001b[1;32m   6886\u001b[0m         \u001b[38;5;124mf\u001b[39m\u001b[38;5;124m\"\u001b[39m\u001b[38;5;124mLength of ascending (\u001b[39m\u001b[38;5;132;01m{\u001b[39;00m\u001b[38;5;28mlen\u001b[39m(ascending)\u001b[38;5;132;01m}\u001b[39;00m\u001b[38;5;124m)\u001b[39m\u001b[38;5;124m\"\u001b[39m  \u001b[38;5;66;03m# type: ignore[arg-type]\u001b[39;00m\n\u001b[1;32m   6887\u001b[0m         \u001b[38;5;124mf\u001b[39m\u001b[38;5;124m\"\u001b[39m\u001b[38;5;124m != length of by (\u001b[39m\u001b[38;5;132;01m{\u001b[39;00m\u001b[38;5;28mlen\u001b[39m(by)\u001b[38;5;132;01m}\u001b[39;00m\u001b[38;5;124m)\u001b[39m\u001b[38;5;124m\"\u001b[39m\n\u001b[1;32m   6888\u001b[0m     )\n\u001b[1;32m   6889\u001b[0m \u001b[38;5;28;01mif\u001b[39;00m \u001b[38;5;28mlen\u001b[39m(by) \u001b[38;5;241m>\u001b[39m \u001b[38;5;241m1\u001b[39m:\n\u001b[0;32m-> 6891\u001b[0m     keys \u001b[38;5;241m=\u001b[39m [\u001b[38;5;28mself\u001b[39m\u001b[38;5;241m.\u001b[39m_get_label_or_level_values(x, axis\u001b[38;5;241m=\u001b[39maxis) \u001b[38;5;28;01mfor\u001b[39;00m x \u001b[38;5;129;01min\u001b[39;00m by]\n\u001b[1;32m   6893\u001b[0m     \u001b[38;5;66;03m# need to rewrap columns in Series to apply key function\u001b[39;00m\n\u001b[1;32m   6894\u001b[0m     \u001b[38;5;28;01mif\u001b[39;00m key \u001b[38;5;129;01mis\u001b[39;00m \u001b[38;5;129;01mnot\u001b[39;00m \u001b[38;5;28;01mNone\u001b[39;00m:\n\u001b[1;32m   6895\u001b[0m         \u001b[38;5;66;03m# error: List comprehension has incompatible type List[Series];\u001b[39;00m\n\u001b[1;32m   6896\u001b[0m         \u001b[38;5;66;03m# expected List[ndarray]\u001b[39;00m\n",
      "File \u001b[0;32m~/python/venvs/pyomo/lib/python3.10/site-packages/pandas/core/frame.py:6891\u001b[0m, in \u001b[0;36m<listcomp>\u001b[0;34m(.0)\u001b[0m\n\u001b[1;32m   6885\u001b[0m     \u001b[38;5;28;01mraise\u001b[39;00m \u001b[38;5;167;01mValueError\u001b[39;00m(\n\u001b[1;32m   6886\u001b[0m         \u001b[38;5;124mf\u001b[39m\u001b[38;5;124m\"\u001b[39m\u001b[38;5;124mLength of ascending (\u001b[39m\u001b[38;5;132;01m{\u001b[39;00m\u001b[38;5;28mlen\u001b[39m(ascending)\u001b[38;5;132;01m}\u001b[39;00m\u001b[38;5;124m)\u001b[39m\u001b[38;5;124m\"\u001b[39m  \u001b[38;5;66;03m# type: ignore[arg-type]\u001b[39;00m\n\u001b[1;32m   6887\u001b[0m         \u001b[38;5;124mf\u001b[39m\u001b[38;5;124m\"\u001b[39m\u001b[38;5;124m != length of by (\u001b[39m\u001b[38;5;132;01m{\u001b[39;00m\u001b[38;5;28mlen\u001b[39m(by)\u001b[38;5;132;01m}\u001b[39;00m\u001b[38;5;124m)\u001b[39m\u001b[38;5;124m\"\u001b[39m\n\u001b[1;32m   6888\u001b[0m     )\n\u001b[1;32m   6889\u001b[0m \u001b[38;5;28;01mif\u001b[39;00m \u001b[38;5;28mlen\u001b[39m(by) \u001b[38;5;241m>\u001b[39m \u001b[38;5;241m1\u001b[39m:\n\u001b[0;32m-> 6891\u001b[0m     keys \u001b[38;5;241m=\u001b[39m [\u001b[38;5;28;43mself\u001b[39;49m\u001b[38;5;241;43m.\u001b[39;49m\u001b[43m_get_label_or_level_values\u001b[49m\u001b[43m(\u001b[49m\u001b[43mx\u001b[49m\u001b[43m,\u001b[49m\u001b[43m \u001b[49m\u001b[43maxis\u001b[49m\u001b[38;5;241;43m=\u001b[39;49m\u001b[43maxis\u001b[49m\u001b[43m)\u001b[49m \u001b[38;5;28;01mfor\u001b[39;00m x \u001b[38;5;129;01min\u001b[39;00m by]\n\u001b[1;32m   6893\u001b[0m     \u001b[38;5;66;03m# need to rewrap columns in Series to apply key function\u001b[39;00m\n\u001b[1;32m   6894\u001b[0m     \u001b[38;5;28;01mif\u001b[39;00m key \u001b[38;5;129;01mis\u001b[39;00m \u001b[38;5;129;01mnot\u001b[39;00m \u001b[38;5;28;01mNone\u001b[39;00m:\n\u001b[1;32m   6895\u001b[0m         \u001b[38;5;66;03m# error: List comprehension has incompatible type List[Series];\u001b[39;00m\n\u001b[1;32m   6896\u001b[0m         \u001b[38;5;66;03m# expected List[ndarray]\u001b[39;00m\n",
      "File \u001b[0;32m~/python/venvs/pyomo/lib/python3.10/site-packages/pandas/core/generic.py:1850\u001b[0m, in \u001b[0;36mNDFrame._get_label_or_level_values\u001b[0;34m(self, key, axis)\u001b[0m\n\u001b[1;32m   1844\u001b[0m     values \u001b[38;5;241m=\u001b[39m (\n\u001b[1;32m   1845\u001b[0m         \u001b[38;5;28mself\u001b[39m\u001b[38;5;241m.\u001b[39maxes[axis]\n\u001b[1;32m   1846\u001b[0m         \u001b[38;5;241m.\u001b[39mget_level_values(key)  \u001b[38;5;66;03m# type: ignore[assignment]\u001b[39;00m\n\u001b[1;32m   1847\u001b[0m         \u001b[38;5;241m.\u001b[39m_values\n\u001b[1;32m   1848\u001b[0m     )\n\u001b[1;32m   1849\u001b[0m \u001b[38;5;28;01melse\u001b[39;00m:\n\u001b[0;32m-> 1850\u001b[0m     \u001b[38;5;28;01mraise\u001b[39;00m \u001b[38;5;167;01mKeyError\u001b[39;00m(key)\n\u001b[1;32m   1852\u001b[0m \u001b[38;5;66;03m# Check for duplicates\u001b[39;00m\n\u001b[1;32m   1853\u001b[0m \u001b[38;5;28;01mif\u001b[39;00m values\u001b[38;5;241m.\u001b[39mndim \u001b[38;5;241m>\u001b[39m \u001b[38;5;241m1\u001b[39m:\n",
      "\u001b[0;31mKeyError\u001b[0m: 'Job'"
     ]
    }
   ],
   "source": [
    "schedule = pd.DataFrame(results)\n",
    "print('\\nSchedule by Job')\n",
    "print(schedule.sort_values(by=['Job','Start']).set_index(['Job', 'Machine']))\n",
    "\n",
    "print('\\nSchedule by Machine')\n",
    "print(schedule.sort_values(by=['Machine','Start']).set_index(['Machine', 'Job']))"
   ]
  },
  {
   "cell_type": "code",
   "execution_count": null,
   "id": "00697639",
   "metadata": {},
   "outputs": [],
   "source": [
    "def visualize(results):\n",
    "    \n",
    "    schedule = pd.DataFrame(results)\n",
    "    JOBS = sorted(list(schedule['Job'].unique()))\n",
    "    MACHINES = sorted(list(schedule['Machine'].unique()))\n",
    "    makespan = schedule['Finish'].max()\n",
    "    \n",
    "    bar_style = {'alpha':1.0, 'lw':25, 'solid_capstyle':'butt'}\n",
    "    text_style = {'color':'white', 'weight':'bold', 'ha':'center', 'va':'center'}\n",
    "    colors = mpl.cm.Dark2.colors\n",
    "\n",
    "    schedule.sort_values(by=['Job', 'Start'])\n",
    "    schedule.set_index(['Job', 'Machine'], inplace=True)\n",
    "\n",
    "    fig, ax = plt.subplots(2,1, figsize=(12, 5+(len(JOBS)+len(MACHINES))/4))\n",
    "\n",
    "    for jdx, j in enumerate(JOBS, 1):\n",
    "        for mdx, m in enumerate(MACHINES, 1):\n",
    "            if (j,m) in schedule.index:\n",
    "                xs = schedule.loc[(j,m), 'Start']\n",
    "                xf = schedule.loc[(j,m), 'Finish']\n",
    "                ax[0].plot([xs, xf], [jdx]*2, c=colors[mdx%7], **bar_style)\n",
    "                ax[0].text((xs + xf)/2, jdx, m, **text_style)\n",
    "                ax[1].plot([xs, xf], [mdx]*2, c=colors[jdx%7], **bar_style)\n",
    "                ax[1].text((xs + xf)/2, mdx, j, **text_style)\n",
    "                \n",
    "    ax[0].set_title('Job Schedule')\n",
    "    ax[0].set_ylabel('Job')\n",
    "    ax[1].set_title('Machine Schedule')\n",
    "    ax[1].set_ylabel('Machine')\n",
    "    \n",
    "    for idx, s in enumerate([JOBS, MACHINES]):\n",
    "        ax[idx].set_ylim(0.5, len(s) + 0.5)\n",
    "        ax[idx].set_yticks(range(1, 1 + len(s)))\n",
    "        ax[idx].set_yticklabels(s)\n",
    "        ax[idx].text(makespan, ax[idx].get_ylim()[0]-0.2, \"{0:0.1f}\".format(makespan), ha='center', va='top')\n",
    "        ax[idx].plot([makespan]*2, ax[idx].get_ylim(), 'r--')\n",
    "        ax[idx].set_xlabel('Time')\n",
    "        ax[idx].grid(True)\n",
    "        \n",
    "    fig.tight_layout()\n",
    "\n",
    "visualize(results)"
   ]
  },
  {
   "cell_type": "code",
   "execution_count": null,
   "id": "a9e6831c",
   "metadata": {},
   "outputs": [],
   "source": []
  }
 ],
 "metadata": {
  "kernelspec": {
   "display_name": "Python 3 (ipykernel)",
   "language": "python",
   "name": "python3"
  },
  "language_info": {
   "codemirror_mode": {
    "name": "ipython",
    "version": 3
   },
   "file_extension": ".py",
   "mimetype": "text/x-python",
   "name": "python",
   "nbconvert_exporter": "python",
   "pygments_lexer": "ipython3",
   "version": "3.10.6"
  }
 },
 "nbformat": 4,
 "nbformat_minor": 5
}
